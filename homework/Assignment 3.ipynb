{
 "cells": [
  {
   "cell_type": "markdown",
   "metadata": {},
   "source": [
    "# Assignment 3\n",
    "\n",
    "*(Due Saturday, October 5, 2019 at noon.)*"
   ]
  },
  {
   "cell_type": "code",
   "execution_count": 1,
   "metadata": {
    "collapsed": true
   },
   "outputs": [],
   "source": [
    "xml = \"\"\"\n",
    "<data>\n",
    "    <citation><author> T. Fahringer, R. Blasko, and H. Zima. </author> <title> Automatic performance prediction to support parallelization of Fortran programs for massively parallel systems. </title> <booktitle> In Proceedings of the 1992 ACM International Conference on Supercomputing, </booktitle> <location> Washington, DC, </location> <date> July 1992. </date></citation>\n",
    "    <citation><author> A. D. Kallis and D. Klappholz, </author> <title> ``Reaching definitions analysis on code containing array references,'' </title> <booktitle> Conf. Rec. of the 4th Workshop on Languages and Compilers for Parallel Computing, </booktitle> <date> Aug. 1991. </date></citation>\n",
    "    <citation><author> R. Fletcher. </author> <title> Practical Methods of Optimization. </title> <publisher> John Wiley &amp; Sons, </publisher> <date> 1987. </date></citation>\n",
    "    <citation><author> Clark, K. L., </author> <title> Negation as Failure, </title> <editor> in: H. Gallaire and J. Minker (eds.), </editor> <booktitle> Logic and Data Bases, </booktitle> <publisher> Plenum Press, </publisher> <location> New York, </location> <date> 1978. </date></citation>\n",
    "    <citation><author> Gent, I. P., &amp; Walsh, T. </author> <date> (1994a). </date> <title> Easy problems are sometimes hard. </title> <journal> Artificial Intelligence, </journal> <volume> 70, </volume> <pages> 335-345. </pages></citation>\n",
    "</data>\n",
    "\"\"\""
   ]
  },
  {
   "cell_type": "markdown",
   "metadata": {},
   "source": [
    "### Task\n",
    "\n",
    "Copy your `Citation` class here from your class notes, then:\n",
    "\n",
    "1. Write a function that takes the XML above and outputs a list of `Citation` objects containing the data from the XML. \n",
    "2. Run the function, loop over the `Citation`s, and prints the output of each one's `complete()` method."
   ]
  },
  {
   "cell_type": "code",
   "execution_count": 2,
   "metadata": {
    "scrolled": false
   },
   "outputs": [
    {
     "name": "stdout",
     "output_type": "stream",
     "text": [
      "[[' T. Fahringer, R. Blasko, and H. Zima. ', ' Automatic performance prediction to support parallelization of Fortran programs for massively parallel systems. ', ' July 1992. ', ' In Proceedings of the 1992 ACM International Conference on Supercomputing, ', ' Washington, DC, '], [' A. D. Kallis and D. Klappholz, ', \" ``Reaching definitions analysis on code containing array references,'' \", ' Aug. 1991. ', ' Conf. Rec. of the 4th Workshop on Languages and Compilers for Parallel Computing, '], [' R. Fletcher. ', ' Practical Methods of Optimization. ', ' John Wiley & Sons, ', ' 1987. '], [' Clark, K. L., ', ' Negation as Failure, ', ' in: H. Gallaire and J. Minker (eds.), ', ' Plenum Press, ', ' 1978. ', ' Logic and Data Bases, ', ' New York, '], [' Gent, I. P., & Walsh, T. ', ' Easy problems are sometimes hard. ', ' (1994a). ', ' Artificial Intelligence, ', ' 70, ', ' 335-345. ']]\n"
     ]
    }
   ],
   "source": [
    "#This is tool that is imported to help work parse the xml data above.\n",
    "import xml.etree.ElementTree as ET\n",
    "\n",
    "#root is an object created from the tool imported above that is based off of the xml data.\n",
    "root = ET.fromstring(xml)\n",
    "\n",
    "#Citation class that takes will take the root object above as an argument and run through a series\n",
    "#of loops in order to create a list with a full range of parsed information that includes: Author,\n",
    "#Title, Date, Editor, Publisher, Editor, Booktitle, Journal, Volume, Pages, Location.\n",
    "class Citation:\n",
    "    \n",
    "    #Constructor method of the Citation class that runs when a Citation object is created.\n",
    "    def __init__(self, details):\n",
    "        self.container = []                     #Container that will keep all of the final parsed information.\n",
    "        self.root = details                     #Placeholder variable that will copy the information found in the root object above.\n",
    "        \n",
    "    #Method within the Citation class that loops though the root object copy(self.root) and checks to see if it contains:Author,\n",
    "    #Title, Date, Editor, Publisher, Editor, Booktitle, Journal, Volume, Pages, or Location. If information is found, it is then\n",
    "    #stored in a temporary list that is then stored in the main list(self.container) at the end of the loop. This method takes no\n",
    "    #argument if being called outside of this class.\n",
    "    def xmlLoop(self):\n",
    "        for citation in self.root:\n",
    "            a = []\n",
    "            if None != citation.find('author').text:\n",
    "                a.append(citation.find('author').text)\n",
    "            if None != citation.find('title').text:\n",
    "                a.append(citation.find('title').text)\n",
    "            if None != citation.find('editor'):\n",
    "                a.append(citation.find('editor').text)\n",
    "            if None != citation.find('publisher'):\n",
    "                a.append(citation.find('publisher').text)\n",
    "            if None != citation.find('date').text:\n",
    "                a.append(citation.find('date').text)\n",
    "            if None != citation.find('booktitle'):\n",
    "                a.append(citation.find('booktitle').text)\n",
    "            if None != citation.find('journal'):\n",
    "                a.append(citation.find('journal').text)\n",
    "            if None != citation.find('volume'):\n",
    "                a.append(citation.find('volume').text)\n",
    "            if None != citation.find('pages'):\n",
    "                a.append(citation.find('pages').text)\n",
    "            if None != citation.find('location'):\n",
    "                a.append(citation.find('location').text)\n",
    "            self.container.append(a)\n",
    "    \n",
    "    #Method within the Citation class that takes the contents of self.container and prints them. This method takes no arguments\n",
    "    #if being called outside of the class.\n",
    "    def complete(self):\n",
    "        print(self.container)\n",
    "        \n",
    "c = Citation(root)                              #Object called c created from the Citation class. It takes root as an argument.    \n",
    "c.xmlLoop()                                     #The Citation object c calls its function xmlLoop() to populate its self.container.\n",
    "c.complete()                                    #The Citation object c calls its function complete() to print its self.container contents.\n",
    "#c.container                                     #Displays a cleaner looking version of the self.container contents."
   ]
  },
  {
   "cell_type": "markdown",
   "metadata": {},
   "source": [
    "#### Submitting\n",
    "\n",
    "In the Terminal (Mac) or Git Bash (Windows):\n",
    "\n",
    "`git commit -a -m 'Assignment 3 completed'`  \n",
    "`git push`"
   ]
  },
  {
   "cell_type": "markdown",
   "metadata": {},
   "source": [
    "### Reading for next week\n",
    "\n",
    "Read these sections on learnpython.org...  \n",
    "1. [List Comprehensions](https://www.learnpython.org/en/List_Comprehensions)\n",
    "2. [Multiple Function Arguments](https://www.learnpython.org/en/Multiple_Function_Arguments)\n",
    "\n",
    "Or these sections of The Python Tutorial.\n",
    "1. [5.1.3 and 5.1.4](https://docs.python.org/3/tutorial/datastructures.html#list-comprehensions)\n",
    "1. [4.7](https://docs.python.org/3/tutorial/controlflow.html#more-on-defining-functions)"
   ]
  },
  {
   "cell_type": "code",
   "execution_count": null,
   "metadata": {
    "collapsed": true
   },
   "outputs": [],
   "source": []
  }
 ],
 "metadata": {
  "kernelspec": {
   "display_name": "Python 3",
   "language": "python",
   "name": "python3"
  },
  "language_info": {
   "codemirror_mode": {
    "name": "ipython",
    "version": 3
   },
   "file_extension": ".py",
   "mimetype": "text/x-python",
   "name": "python",
   "nbconvert_exporter": "python",
   "pygments_lexer": "ipython3",
   "version": "3.6.1"
  }
 },
 "nbformat": 4,
 "nbformat_minor": 2
}
