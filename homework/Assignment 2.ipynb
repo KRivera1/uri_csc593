{
 "cells": [
  {
   "cell_type": "markdown",
   "metadata": {},
   "source": [
    "# Assignment 2\n",
    "\n",
    "*(Due Saturday, September 21, 2019 at noon.)*"
   ]
  },
  {
   "cell_type": "code",
   "execution_count": 2,
   "metadata": {},
   "outputs": [],
   "source": [
    "string1 = 'ABCDEFGHIJ'\n",
    "string2 = 'ABCDDFGHII'"
   ]
  },
  {
   "cell_type": "markdown",
   "metadata": {},
   "source": [
    "#### 1. In a new Python cell below, convert `string1` to a _list_ with 2 elements: \"ABCD\" and \"FGHIJ\", and output this to the screen. You don't need to save this new list to a variable."
   ]
  },
  {
   "cell_type": "code",
   "execution_count": 34,
   "metadata": {},
   "outputs": [
    {
     "name": "stdout",
     "output_type": "stream",
     "text": [
      "['ABCD', 'FGHIJ']\n"
     ]
    }
   ],
   "source": [
    "#The split function splits the string and also converts it into a list.\n",
    "\n",
    "print(string1.split('E'))"
   ]
  },
  {
   "cell_type": "markdown",
   "metadata": {},
   "source": [
    "#### 2. Save the length of `string1` to a new variable called `length1`."
   ]
  },
  {
   "cell_type": "code",
   "execution_count": 33,
   "metadata": {},
   "outputs": [],
   "source": [
    "#len is a function used to give an integer value for the length of a string, list, tuple, etc.\n",
    "\n",
    "length1 = len(string1)"
   ]
  },
  {
   "cell_type": "markdown",
   "metadata": {},
   "source": [
    "#### 3. What type or class is `length1`?"
   ]
  },
  {
   "cell_type": "code",
   "execution_count": 32,
   "metadata": {},
   "outputs": [
    {
     "data": {
      "text/plain": [
       "int"
      ]
     },
     "execution_count": 32,
     "metadata": {},
     "output_type": "execute_result"
    }
   ],
   "source": [
    "#type is a function that will return the data type of a particular variable or object.\n",
    "\n",
    "type(length1)"
   ]
  },
  {
   "cell_type": "markdown",
   "metadata": {},
   "source": [
    "#### 4. Loop over `range(length1)` and print the type of each item. "
   ]
  },
  {
   "cell_type": "code",
   "execution_count": 9,
   "metadata": {},
   "outputs": [
    {
     "name": "stdout",
     "output_type": "stream",
     "text": [
      "0\n",
      "1\n",
      "2\n",
      "3\n",
      "4\n",
      "5\n",
      "6\n",
      "7\n",
      "8\n",
      "9\n"
     ]
    }
   ],
   "source": [
    "for x in range(length1):\n",
    "    print(x)"
   ]
  },
  {
   "cell_type": "markdown",
   "metadata": {},
   "source": [
    "#### 5. Print the fifth item in `string1`."
   ]
  },
  {
   "cell_type": "code",
   "execution_count": 31,
   "metadata": {},
   "outputs": [
    {
     "name": "stdout",
     "output_type": "stream",
     "text": [
      "E\n"
     ]
    }
   ],
   "source": [
    "#Direct string indexing is used here. element 4 corresponds to the 5 item because indexing starts at a value of 0.\n",
    "\n",
    "print(string1[4])"
   ]
  },
  {
   "cell_type": "markdown",
   "metadata": {},
   "source": [
    "#### 6. Print the first 3 items in `string2`."
   ]
  },
  {
   "cell_type": "code",
   "execution_count": 30,
   "metadata": {},
   "outputs": [
    {
     "name": "stdout",
     "output_type": "stream",
     "text": [
      "ABC\n"
     ]
    }
   ],
   "source": [
    "#Indexing over a range using string2[start:stop].\n",
    "\n",
    "print(string2[:3])"
   ]
  },
  {
   "cell_type": "markdown",
   "metadata": {},
   "source": [
    "#### 7. Loop over string1 and print every other letter in it."
   ]
  },
  {
   "cell_type": "code",
   "execution_count": 29,
   "metadata": {},
   "outputs": [
    {
     "name": "stdout",
     "output_type": "stream",
     "text": [
      "A\n",
      "C\n",
      "E\n",
      "G\n",
      "I\n",
      " \n",
      "A\n",
      "C\n",
      "E\n",
      "G\n",
      "I\n"
     ]
    }
   ],
   "source": [
    "#Two ways to solve this problem with loops. One uses the length1 variable created above and utilizes the range(start, stop, step).\n",
    "#The second method takes advantage of built indexing tools that are available for strings. string1[start:stop:step]\n",
    "\n",
    "for w in range(0,length1,2):\n",
    "    print(string1[w])\n",
    "\n",
    "print(\" \")\n",
    "\n",
    "for i in string1[::2]:\n",
    "    print(i)\n"
   ]
  },
  {
   "cell_type": "markdown",
   "metadata": {},
   "source": [
    "#### 8. Print each letter of string1 on a line with its corresponding letter of string2. Sample output:\n",
    "\n",
    "```\n",
    "AA\n",
    "BB\n",
    "CC\n",
    "DD\n",
    "ED\n",
    "...\n",
    "```"
   ]
  },
  {
   "cell_type": "code",
   "execution_count": 27,
   "metadata": {},
   "outputs": [
    {
     "name": "stdout",
     "output_type": "stream",
     "text": [
      "AA\n",
      "BB\n",
      "CC\n",
      "DD\n",
      "ED\n",
      "FF\n",
      "GG\n",
      "HH\n",
      "II\n",
      "JI\n"
     ]
    }
   ],
   "source": [
    "#Both strings are the same length and the length1 variable is iterated accross and in each loop the current value\n",
    "#of r is used to index string1 and string2 and the indexed results are printed.\n",
    "\n",
    "for r in range(length1):\n",
    "    print(string1[r] + string2[r])"
   ]
  },
  {
   "cell_type": "code",
   "execution_count": null,
   "metadata": {},
   "outputs": [],
   "source": []
  }
 ],
 "metadata": {
  "kernelspec": {
   "display_name": "Python 3",
   "language": "python",
   "name": "python3"
  },
  "language_info": {
   "codemirror_mode": {
    "name": "ipython",
    "version": 3
   },
   "file_extension": ".py",
   "mimetype": "text/x-python",
   "name": "python",
   "nbconvert_exporter": "python",
   "pygments_lexer": "ipython3",
   "version": "3.7.3"
  }
 },
 "nbformat": 4,
 "nbformat_minor": 2
}
