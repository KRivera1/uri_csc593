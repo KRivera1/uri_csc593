{
 "cells": [
  {
   "cell_type": "markdown",
   "metadata": {},
   "source": [
    "# Assignment 6\n",
    "\n",
    "*(Due Saturday, October 26, 2019 at noon.)*"
   ]
  },
  {
   "cell_type": "markdown",
   "metadata": {},
   "source": [
    "**1)** Below, paste the code needed to import and clean your file from the `../dataset` directory in your repository, then save the result to a new file. I should be able to run the code in this notebook and get my own copy of your cleaned, processed data.\n",
    "\n",
    "**Note:** Your assignment file will be publicly accessible on Github. If your dataset is private, don't print anything confidential in this assignment. "
   ]
  },
  {
   "cell_type": "code",
   "execution_count": 15,
   "metadata": {},
   "outputs": [
    {
     "data": {
      "text/html": [
       "<div>\n",
       "<style scoped>\n",
       "    .dataframe tbody tr th:only-of-type {\n",
       "        vertical-align: middle;\n",
       "    }\n",
       "\n",
       "    .dataframe tbody tr th {\n",
       "        vertical-align: top;\n",
       "    }\n",
       "\n",
       "    .dataframe thead th {\n",
       "        text-align: right;\n",
       "    }\n",
       "</style>\n",
       "<table border=\"1\" class=\"dataframe\">\n",
       "  <thead>\n",
       "    <tr style=\"text-align: right;\">\n",
       "      <th></th>\n",
       "      <th>Time</th>\n",
       "      <th>Hot junction (degC)</th>\n",
       "      <th>Hot junction (degF)</th>\n",
       "      <th>Cold junction (degC)</th>\n",
       "      <th>Cold junction (degF)</th>\n",
       "      <th>Thin film TC</th>\n",
       "      <th>Bulk TC</th>\n",
       "      <th>Seebeck thin</th>\n",
       "      <th>Seebeck bulk</th>\n",
       "    </tr>\n",
       "  </thead>\n",
       "  <tbody>\n",
       "    <tr>\n",
       "      <td>0</td>\n",
       "      <td>1</td>\n",
       "      <td>22.42854</td>\n",
       "      <td>82.42854</td>\n",
       "      <td>20.21710</td>\n",
       "      <td>68.390780</td>\n",
       "      <td>0.000029</td>\n",
       "      <td>0.000626</td>\n",
       "      <td>0.463539</td>\n",
       "      <td>10.063680</td>\n",
       "    </tr>\n",
       "    <tr>\n",
       "      <td>1</td>\n",
       "      <td>2</td>\n",
       "      <td>22.43727</td>\n",
       "      <td>82.43727</td>\n",
       "      <td>20.21109</td>\n",
       "      <td>68.379962</td>\n",
       "      <td>0.000032</td>\n",
       "      <td>0.000619</td>\n",
       "      <td>0.512211</td>\n",
       "      <td>9.951535</td>\n",
       "    </tr>\n",
       "    <tr>\n",
       "      <td>2</td>\n",
       "      <td>3</td>\n",
       "      <td>22.39922</td>\n",
       "      <td>82.39922</td>\n",
       "      <td>20.18395</td>\n",
       "      <td>68.331110</td>\n",
       "      <td>0.000030</td>\n",
       "      <td>0.000622</td>\n",
       "      <td>0.487905</td>\n",
       "      <td>9.989874</td>\n",
       "    </tr>\n",
       "    <tr>\n",
       "      <td>3</td>\n",
       "      <td>4</td>\n",
       "      <td>22.36412</td>\n",
       "      <td>82.36412</td>\n",
       "      <td>20.19643</td>\n",
       "      <td>68.353574</td>\n",
       "      <td>0.000029</td>\n",
       "      <td>0.000621</td>\n",
       "      <td>0.463865</td>\n",
       "      <td>9.985312</td>\n",
       "    </tr>\n",
       "    <tr>\n",
       "      <td>4</td>\n",
       "      <td>5</td>\n",
       "      <td>22.35807</td>\n",
       "      <td>82.35807</td>\n",
       "      <td>20.14683</td>\n",
       "      <td>68.264294</td>\n",
       "      <td>0.000029</td>\n",
       "      <td>0.000615</td>\n",
       "      <td>0.463540</td>\n",
       "      <td>9.892934</td>\n",
       "    </tr>\n",
       "  </tbody>\n",
       "</table>\n",
       "</div>"
      ],
      "text/plain": [
       "   Time  Hot junction (degC)  Hot junction (degF)  Cold junction (degC)  \\\n",
       "0     1             22.42854             82.42854              20.21710   \n",
       "1     2             22.43727             82.43727              20.21109   \n",
       "2     3             22.39922             82.39922              20.18395   \n",
       "3     4             22.36412             82.36412              20.19643   \n",
       "4     5             22.35807             82.35807              20.14683   \n",
       "\n",
       "   Cold junction (degF)  Thin film TC   Bulk TC  Seebeck thin  Seebeck bulk  \n",
       "0             68.390780      0.000029  0.000626      0.463539     10.063680  \n",
       "1             68.379962      0.000032  0.000619      0.512211      9.951535  \n",
       "2             68.331110      0.000030  0.000622      0.487905      9.989874  \n",
       "3             68.353574      0.000029  0.000621      0.463865      9.985312  \n",
       "4             68.264294      0.000029  0.000615      0.463540      9.892934  "
      ]
     },
     "execution_count": 15,
     "metadata": {},
     "output_type": "execute_result"
    }
   ],
   "source": [
    "#import numpy as np\n",
    "import pandas as pd        #This is the library needed to import my data\n",
    "\n",
    "dataset1 = pd.read_csv('../dataset/CSC 593 dataset (thermoelectric).csv')\n",
    "dataset2 = pd.read_csv('../dataset/CSC 593 dataset (temp + strain).csv')\n",
    "dataset1.head()\n",
    "#dataset2.head()\n",
    "\n",
    "#Note: both datasets are separate and will not be joined. "
   ]
  },
  {
   "cell_type": "code",
   "execution_count": 14,
   "metadata": {},
   "outputs": [],
   "source": [
    "#Save your file (change the name if necessary).\n",
    "dataset1.to_csv('../dataset/ds1.csv')\n",
    "dataset2.to_csv('../dataset/ds2.csv')"
   ]
  },
  {
   "cell_type": "markdown",
   "metadata": {},
   "source": [
    "**2)** A brief survey: Have you taken an introductory statistics course, and if so, do you remember much from it? For example,\n",
    "\n",
    "* Can you articulate the null hypotheses for the questions you formulated last week involving your data? \n",
    "* Do you know what a t-test is for?\n",
    "* Do you know what a *p* value represents?\n",
    "* Do you know what standard deviation is, and how it's calculated?"
   ]
  },
  {
   "cell_type": "markdown",
   "metadata": {},
   "source": [
    "I have never taken an introductory statistics course but I have had some statistics taught in different courses of my undergraduate program.\n",
    "\n",
    "1. The null hypothesis can not be be articulated for the questions I formulated.\n",
    "2. I do not know what a t-test is for.\n",
    "3. I do know what a p-value represents but I do not use it with my research.\n",
    "4. I'm familiar with standard deviation and how its calculated but I don't use it in my research."
   ]
  },
  {
   "cell_type": "markdown",
   "metadata": {},
   "source": [
    "#### Submitting\n",
    "\n",
    "In the Terminal (Mac) or Git Bash (Windows):\n",
    "\n",
    "`git commit -a -m 'Assignment 6 completed'`  \n",
    "`git push`"
   ]
  },
  {
   "cell_type": "markdown",
   "metadata": {},
   "source": [
    "### Reading\n",
    "\n",
    "1. [_Python for Data Analysis_](https://uri-primo.hosted.exlibrisgroup.com/permalink/f/10nopmq/01URI_ALMA51209454630002396):\n",
    "    * Section 7.3\n",
    "    * Chapter 10"
   ]
  }
 ],
 "metadata": {
  "kernelspec": {
   "display_name": "Python 3",
   "language": "python",
   "name": "python3"
  },
  "language_info": {
   "codemirror_mode": {
    "name": "ipython",
    "version": 3
   },
   "file_extension": ".py",
   "mimetype": "text/x-python",
   "name": "python",
   "nbconvert_exporter": "python",
   "pygments_lexer": "ipython3",
   "version": "3.7.4"
  }
 },
 "nbformat": 4,
 "nbformat_minor": 2
}
