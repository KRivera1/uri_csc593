{
 "cells": [
  {
   "cell_type": "markdown",
   "metadata": {},
   "source": [
    "# Assignment 6\n",
    "\n",
    "*(Due Saturday, October 26, 2019 at noon.)*"
   ]
  },
  {
   "cell_type": "markdown",
   "metadata": {},
   "source": [
    "**1)** Below, paste the code needed to import and clean your file from the `../dataset` directory in your repository, then save the result to a new file. I should be able to run the code in this notebook and get my own copy of your cleaned, processed data.\n",
    "\n",
    "**Note:** Your assignment file will be publicly accessible on Github. If your dataset is private, don't print anything confidential in this assignment. "
   ]
  },
  {
   "cell_type": "code",
   "execution_count": 13,
   "metadata": {},
   "outputs": [],
   "source": [
    "#import numpy as np\n",
    "import pandas as pd        #This is the library needed to import my data\n",
    "\n",
    "dataset1 = pd.read_csv('../dataset/CSC 593 dataset (thermoelectric).csv')\n",
    "dataset2 = pd.read_csv('../dataset/CSC 593 dataset (temp + strain).csv')\n",
    "dataset1.head()\n",
    "#dataset2.head()\n",
    "\n",
    "#Note: both datasets are separate and will not be joined. "
   ]
  },
  {
   "cell_type": "code",
   "execution_count": 14,
   "metadata": {},
   "outputs": [],
   "source": [
    "#Save your file (change the name if necessary).\n",
    "dataset1.to_csv('../dataset/ds1.csv')\n",
    "dataset2.to_csv('../dataset/ds2.csv')"
   ]
  },
  {
   "cell_type": "markdown",
   "metadata": {},
   "source": [
    "**2)** A brief survey: Have you taken an introductory statistics course, and if so, do you remember much from it? For example,\n",
    "\n",
    "* Can you articulate the null hypotheses for the questions you formulated last week involving your data? \n",
    "* Do you know what a t-test is for?\n",
    "* Do you know what a *p* value represents?\n",
    "* Do you know what standard deviation is, and how it's calculated?"
   ]
  },
  {
   "cell_type": "markdown",
   "metadata": {},
   "source": [
    "I have never taken an introductory statistics course but I have had some statistics taught in different courses of my undergraduate program.\n",
    "\n",
    "1. The null hypothesis can not be be articulated for the questions I formulated.\n",
    "2. I do not know what a t-test is for.\n",
    "3. I do know what a p-value represents but I do not use it with my research.\n",
    "4. I'm familiar with standard deviation and how its calculated but I don't use it in my research."
   ]
  },
  {
   "cell_type": "markdown",
   "metadata": {},
   "source": [
    "#### Submitting\n",
    "\n",
    "In the Terminal (Mac) or Git Bash (Windows):\n",
    "\n",
    "`git commit -a -m 'Assignment 6 completed'`  \n",
    "`git push`"
   ]
  },
  {
   "cell_type": "markdown",
   "metadata": {},
   "source": [
    "### Reading\n",
    "\n",
    "1. [_Python for Data Analysis_](https://uri-primo.hosted.exlibrisgroup.com/permalink/f/10nopmq/01URI_ALMA51209454630002396):\n",
    "    * Section 7.3\n",
    "    * Chapter 10"
   ]
  }
 ],
 "metadata": {
  "kernelspec": {
   "display_name": "Python 3",
   "language": "python",
   "name": "python3"
  },
  "language_info": {
   "codemirror_mode": {
    "name": "ipython",
    "version": 3
   },
   "file_extension": ".py",
   "mimetype": "text/x-python",
   "name": "python",
   "nbconvert_exporter": "python",
   "pygments_lexer": "ipython3",
   "version": "3.7.4"
  }
 },
 "nbformat": 4,
 "nbformat_minor": 2
}
