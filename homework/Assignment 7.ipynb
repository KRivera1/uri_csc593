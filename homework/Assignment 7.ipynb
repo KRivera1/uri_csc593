{
 "cells": [
  {
   "cell_type": "markdown",
   "metadata": {},
   "source": [
    "# Assignment 7\n",
    "\n",
    "*(Due Saturday, November 2, 2019 at noon.)*"
   ]
  },
  {
   "cell_type": "code",
   "execution_count": 2,
   "metadata": {},
   "outputs": [],
   "source": [
    "import numpy as np\n",
    "import pandas as pd"
   ]
  },
  {
   "cell_type": "markdown",
   "metadata": {},
   "source": [
    "1) Load either your dataset, `brfss`, or `nhis` and create at least three derived fields from the data there. Ideally, these will be fields you'll need for your final project."
   ]
  },
  {
   "cell_type": "code",
   "execution_count": 59,
   "metadata": {},
   "outputs": [
    {
     "data": {
      "text/plain": [
       "0       Time,R\n",
       "1       10101,\n",
       "2       10212,\n",
       "3       10323,\n",
       "4       10434,\n",
       "         ...  \n",
       "1495    175935\n",
       "1496    176046\n",
       "1497    176157\n",
       "1498    176268\n",
       "1499    176379\n",
       "Name: Time(ms), Length: 1500, dtype: object"
      ]
     },
     "execution_count": 59,
     "metadata": {},
     "output_type": "execute_result"
    }
   ],
   "source": [
    "#Fields for the first file in my dataset folder.\n",
    "\n",
    "#The names of the derived fields are set in the names list.\n",
    "names= ['Time(ms)', 'Resistance(ohm)']\n",
    "\n",
    "#The column widths are set in the cols list.\n",
    "cols = [\n",
    "    (0,6),\n",
    "    (6,15)\n",
    "]\n",
    "rows = [\n",
    "    (0,100),\n",
    "    (0,100)\n",
    "    \n",
    "]\n",
    "\n",
    "#The data types of the derived fields are set in the types list.\n",
    "types= {\n",
    "    'Time(ms)': str, \n",
    "    'Resistance(ohm)': str,\n",
    "}\n",
    "\n",
    "#Pandas .read_fwf method is used to extract the 'CSC 593 dataset (temp + strain).csv' data file in the ../dataset directory.\n",
    "StrainData = pd.read_fwf('../dataset/CSC 593 dataset (temp + strain).csv',\n",
    "                    names=names,\n",
    "                    colspecs=cols,\n",
    "                    infer_nrows=100,\n",
    "                    dtype=types)\n",
    "\n",
    "\n",
    "##These are the derived fields. This method does not work too well.\n",
    "\n",
    "StrainData['Time(ms)']\n",
    "#StrainData['Resistance(ohm)']"
   ]
  },
  {
   "cell_type": "code",
   "execution_count": 60,
   "metadata": {},
   "outputs": [],
   "source": [
    "#Fields for the first file in my dataset folder.\n",
    "#Note: This method of extracting files with pandas and setting deriving fields does not work too well with my files\n",
    "#because their column sizes get larger over time. For the final project I will find another way to handle the data files.\n",
    "\n",
    "#The names of the derived fields are set in the names list.\n",
    "names= ['Time(s)', 'Hot junction(degC)', 'Cold junction(degC)', 'Thin Film TC', 'Bulk TC']\n",
    "\n",
    "#The column widths are set in the cols list.\n",
    "cols = [\n",
    "    (0,5),\n",
    "    (2,7),\n",
    "    (16,20),\n",
    "    (21,24),\n",
    "    (25,30)\n",
    "]\n",
    "\n",
    "#The data types of the derived fields are set in the types list.\n",
    "types= {\n",
    "    'Time(s)': str, \n",
    "    'Hot junction(degC)': str,\n",
    "    'Cold junction(degC)': str,\n",
    "    'Thin Film TC':str,\n",
    "    'Bulk TC': str\n",
    "}\n",
    "\n",
    "#Pandas .read_fwf method is used to extract the 'CSC 593 dataset (thermoelectric).csv' data file in the ../dataset directory.\n",
    "ThermoelectricData = pd.read_fwf('../dataset/CSC 593 dataset (thermoelectric).csv',\n",
    "                    names=names,\n",
    "                    colspecs=cols,\n",
    "                    dtype=types)\n",
    "\n",
    "\n",
    "##These are the derived fields. This method does not work too well.\n",
    "\n",
    "#ThermoelectricData['Time(s)']\n",
    "#ThermoelectricData['Hot junction(degC)']\n",
    "#ThermoelectricData['Cold junction(degC)']\n",
    "#ThermoelectricData['Thin Film TC']\n",
    "#ThermoelectricData['Bulk TC']"
   ]
  },
  {
   "cell_type": "markdown",
   "metadata": {},
   "source": [
    "2) Run the following cell."
   ]
  },
  {
   "cell_type": "code",
   "execution_count": null,
   "metadata": {},
   "outputs": [],
   "source": [
    "import seaborn as sns\n",
    "sns.__version__"
   ]
  },
  {
   "cell_type": "markdown",
   "metadata": {},
   "source": [
    "#### Submitting\n",
    "\n",
    "In the Terminal (Mac) or Git Bash (Windows):\n",
    "\n",
    "`git commit -a -m 'Assignment 7 completed'`  \n",
    "`git push`"
   ]
  },
  {
   "cell_type": "markdown",
   "metadata": {},
   "source": [
    "### Reading\n",
    "\n",
    "1. [_Python for Data Analysis_](https://uri-primo.hosted.exlibrisgroup.com/permalink/f/10nopmq/01URI_ALMA51209454630002396):\n",
    "    * Chapter 9"
   ]
  }
 ],
 "metadata": {
  "kernelspec": {
   "display_name": "Python 3",
   "language": "python",
   "name": "python3"
  },
  "language_info": {
   "codemirror_mode": {
    "name": "ipython",
    "version": 3
   },
   "file_extension": ".py",
   "mimetype": "text/x-python",
   "name": "python",
   "nbconvert_exporter": "python",
   "pygments_lexer": "ipython3",
   "version": "3.7.4"
  }
 },
 "nbformat": 4,
 "nbformat_minor": 2
}
